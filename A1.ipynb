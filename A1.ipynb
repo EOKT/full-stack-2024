{
 "cells": [
  {
   "cell_type": "code",
   "execution_count": 2,
   "metadata": {},
   "outputs": [
    {
     "name": "stdout",
     "output_type": "stream",
     "text": [
      "1. Indentation dance,\n",
      "Python code flows gracefully,\n",
      "Syntax harmony.\n",
      "\n",
      "2. Lists, tuples, dicts,\n",
      "Python's data structures,\n",
      "Efficient and clean.\n",
      "\n",
      "3. Functions and loops,\n",
      "Python's tools for automation,\n",
      "Simplify tasks.\n",
      "\n",
      "4. Libraries galore,\n",
      "Python's vast ecosystem,\n",
      "Endless possibilities.\n",
      "\n",
      "5. Error messages sting,\n",
      "But Python's helpful feedback,\n",
      "Guides us to success.Beautiful haikus,\n",
      "Python's elegance captured,\n",
      "In words so precise."
     ]
    },
    {
     "data": {
      "text/plain": [
       "AIMessageChunk(content=\"Beautiful haikus,\\nPython's elegance captured,\\nIn words so precise.\")"
      ]
     },
     "execution_count": 2,
     "metadata": {},
     "output_type": "execute_result"
    }
   ],
   "source": [
    "from langchain.chat_models import ChatOpenAI\n",
    "from langchain.prompts import ChatPromptTemplate\n",
    "from langchain.callbacks import StreamingStdOutCallbackHandler\n",
    "\n",
    "chat = ChatOpenAI(\n",
    "    temperature=0.1,\n",
    "    streaming=True,\n",
    "    callbacks=[\n",
    "        StreamingStdOutCallbackHandler(),\n",
    "    ],\n",
    ")\n",
    "\n",
    "poet_prompt = ChatPromptTemplate.from_messages(\n",
    "    [\n",
    "        (\n",
    "            \"system\",\n",
    "            \"\",\n",
    "        ),\n",
    "        (\"human\", \"I want to write Haikus about {poem_input}.\"),\n",
    "    ]\n",
    ")\n",
    "\n",
    "poet_chain = poet_prompt | chat\n",
    "\n",
    "\n",
    "\n",
    "haiku_prompt = ChatPromptTemplate.from_messages(\n",
    "    [\n",
    "        (\n",
    "            \"system\",\n",
    "            \"You are a poet specialized in writing Haikus.\",\n",
    "        ),\n",
    "        (\"human\", \"{p_a}\"),\n",
    "    ]\n",
    ")\n",
    "\n",
    "\n",
    "haiku_chain = haiku_prompt | chat\n",
    "\n",
    "\n",
    "final_chain = {\"p_a\": poet_chain} | haiku_chain\n",
    "\n",
    "final_chain.invoke({\"poem_input\": \"python programming\"})\n",
    "\n"
   ]
  },
  {
   "cell_type": "code",
   "execution_count": null,
   "metadata": {},
   "outputs": [],
   "source": [
    "from langchain.chat_models import ChatOpenAI\n",
    "from langchain.callbacks import StreamingStdOutCallbackHandler\n",
    "from langchain.prompts.prompt import PromptTemplate\n",
    "\n",
    "chat = ChatOpenAI(\n",
    "    temperature=0.1,\n",
    "    streaming=True,\n",
    "    callbacks=[\n",
    "        StreamingStdOutCallbackHandler(),\n",
    "    ],\n",
    ")"
   ]
  }
 ],
 "metadata": {
  "kernelspec": {
   "display_name": "env",
   "language": "python",
   "name": "python3"
  },
  "language_info": {
   "codemirror_mode": {
    "name": "ipython",
    "version": 3
   },
   "file_extension": ".py",
   "mimetype": "text/x-python",
   "name": "python",
   "nbconvert_exporter": "python",
   "pygments_lexer": "ipython3",
   "version": "3.11.0"
  }
 },
 "nbformat": 4,
 "nbformat_minor": 2
}
