{
 "cells": [
  {
   "cell_type": "code",
   "execution_count": 1,
   "metadata": {},
   "outputs": [
    {
     "name": "stdout",
     "output_type": "stream",
     "text": [
      "\n",
      "        I know this:\n",
      "        Director: Mel Gibson\n",
      "        Main cast: Mel Gibson\n",
      "        Budget: $65 million\n",
      "        Box office: $210.4 million\n",
      "        Short review: Scottish warrior William Wallace leads his countrymen in a rebellion to free his homeland from the tyranny of King Edward I of England."
     ]
    },
    {
     "data": {
      "text/plain": [
       "AIMessageChunk(content='\\n        I know this:\\n        Director: Mel Gibson\\n        Main cast: Mel Gibson\\n        Budget: $65 million\\n        Box office: $210.4 million\\n        Short review: Scottish warrior William Wallace leads his countrymen in a rebellion to free his homeland from the tyranny of King Edward I of England.')"
      ]
     },
     "execution_count": 1,
     "metadata": {},
     "output_type": "execute_result"
    }
   ],
   "source": [
    "from langchain.chat_models import ChatOpenAI\n",
    "from langchain.prompts.few_shot import FewShotChatMessagePromptTemplate\n",
    "from langchain.callbacks import StreamingStdOutCallbackHandler\n",
    "from langchain.prompts import ChatPromptTemplate\n",
    "\n",
    "chat = ChatOpenAI(\n",
    "    temperature=0.1,\n",
    "    streaming=True,\n",
    "    callbacks=[\n",
    "        StreamingStdOutCallbackHandler(),\n",
    "    ],\n",
    ")\n",
    "\n",
    "\n",
    "examples = [\n",
    "    {\n",
    "        \"movie\": \"Forrest Gump\",\n",
    "        \"answer\": \"\"\"\n",
    "        I know this:\n",
    "        Director: Robert Zemeckis\n",
    "        Main cast: Tom Hanks\n",
    "        Budget: $55 million\n",
    "        Box office: $678.2 million\n",
    "        Short review: The history of the United States from the 1950s to the '70s unfolds from the perspective of an Alabama man with an IQ of 75, who yearns to be reunited with his childhood sweetheart.\n",
    "\n",
    "        \"\"\",\n",
    "    },\n",
    "    {\n",
    "        \"movie\": \"American Psycho\",\n",
    "        \"answer\": \"\"\"\n",
    "        I know this:\n",
    "        Director: Mary Harron\n",
    "        Main cast: Christian Bale\n",
    "        Budget: $7 million\n",
    "        Box office:$34 million\n",
    "        Short review: A wealthy New York City investment banking executive, Patrick Bateman, hides his alternate psychopathic ego from his co-workers and friends as he delves deeper into his violent, hedonistic fantasies.\n",
    "        \"\"\",\n",
    "    },\n",
    "    {\n",
    "        \"movie\": \"The Lion King\",\n",
    "        \"answer\": \"\"\"\n",
    "        I know this:\n",
    "        Director: Roger Allers, Rob Minkoff \n",
    "        Main cast: Jonathan Taylor Thomas\n",
    "        Budget: $45 million\n",
    "        Box office: $978.8 million\n",
    "        Short review: Lion prince Simba and his father are targeted by his bitter uncle, who wants to ascend the throne himself.\n",
    "        \"\"\",\n",
    "    },\n",
    "]\n",
    "\n",
    "\n",
    "example_prompt = ChatPromptTemplate.from_messages(\n",
    "    [\n",
    "        (\"human\", \"What do you know about {movie}?\"),\n",
    "        (\"ai\", \"{answer}\"),\n",
    "    ]\n",
    ")\n",
    "\n",
    "example_prompt = FewShotChatMessagePromptTemplate(\n",
    "    example_prompt=example_prompt,\n",
    "    examples=examples,\n",
    ")\n",
    "\n",
    "final_prompt = ChatPromptTemplate.from_messages(\n",
    "    [\n",
    "        (\"system\", \"You are a movie reviewer, you give short answers.\"),\n",
    "        example_prompt,\n",
    "        (\"human\", \"What do you know about {movie}?\"),\n",
    "    ]\n",
    ")\n",
    "\n",
    "chain = final_prompt | chat\n",
    "\n",
    "chain.invoke({\"movie\": \"Braveheart\"})"
   ]
  }
 ],
 "metadata": {
  "kernelspec": {
   "display_name": "env",
   "language": "python",
   "name": "python3"
  },
  "language_info": {
   "codemirror_mode": {
    "name": "ipython",
    "version": 3
   },
   "file_extension": ".py",
   "mimetype": "text/x-python",
   "name": "python",
   "nbconvert_exporter": "python",
   "pygments_lexer": "ipython3",
   "version": "3.11.0"
  }
 },
 "nbformat": 4,
 "nbformat_minor": 2
}
